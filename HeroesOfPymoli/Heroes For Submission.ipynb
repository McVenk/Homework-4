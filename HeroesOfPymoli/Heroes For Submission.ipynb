{
 "cells": [
  {
   "cell_type": "markdown",
   "metadata": {},
   "source": [
    "# Instructions/Readme for grader- \n",
    "1. This file contains code for various analyses/segments including player count, gender demographics, purchasing behavior, top selling, top profitable items, etc.\n",
    "2. I have provided print comments for you to check each step(if needed). You might just have to uncomment or comment the print commands. They are all commented right now.\n",
    "3. The outputs are indexed with respect to the groups as per the assignment request and I have tried my best to format and present the way as shown in the example analyses sheet that was provided along with the assignment.\n",
    "4. I'm including a synopsis of trends-\"Heroes Of Pymoli Data Analysis Trends & Insights\" in the beginning as well as in the end.\n"
   ]
  },
  {
   "cell_type": "markdown",
   "metadata": {},
   "source": [
    "# Heroes Of Pymoli Data Analysis Trends & Insights-\n",
    "\n",
    "#1. Customer Trends- \n",
    "---> Of the 576 active players, the vast majority are male (84.03%). There also exists, a smaller, but notable proportion of female players (14.06%). \n",
    "---> Our peak age demographic falls between 20-24 (44.79%) with secondary groups falling between 15-19 (18.58%) and 25-29 (13.37%).\n",
    "\n",
    "#2. Product Trends- \n",
    "---> 183 unique items, priced at an average of  $3.05, were sold, generating a total revenue of $2379.77 \n",
    "---> \"Oathbreaker, Last Hope of the Breaking Storm\" (Item 178) is the highest selling item generating the highest total purchase revenue of  50.76 followed by Nirvana (Item ID#82); generating total purchase revenue of 44.10\n",
    "\n",
    "#3. Purchase Transaction Trends- \n",
    "---> We saw 780 total purchases leading to a total revenue of  2379.77andaveragepurchasepriceof 4.13 per user. \n",
    "---> User- \"isosia93\"is the most purchased customer making the higest total purchase value of $18.96"
   ]
  },
  {
   "cell_type": "code",
   "execution_count": 1,
   "metadata": {},
   "outputs": [
    {
     "data": {
      "text/html": [
       "<div>\n",
       "<style scoped>\n",
       "    .dataframe tbody tr th:only-of-type {\n",
       "        vertical-align: middle;\n",
       "    }\n",
       "\n",
       "    .dataframe tbody tr th {\n",
       "        vertical-align: top;\n",
       "    }\n",
       "\n",
       "    .dataframe thead th {\n",
       "        text-align: right;\n",
       "    }\n",
       "</style>\n",
       "<table border=\"1\" class=\"dataframe\">\n",
       "  <thead>\n",
       "    <tr style=\"text-align: right;\">\n",
       "      <th></th>\n",
       "      <th>Purchase ID</th>\n",
       "      <th>SN</th>\n",
       "      <th>Age</th>\n",
       "      <th>Gender</th>\n",
       "      <th>Item ID</th>\n",
       "      <th>Item Name</th>\n",
       "      <th>Price</th>\n",
       "    </tr>\n",
       "  </thead>\n",
       "  <tbody>\n",
       "    <tr>\n",
       "      <th>0</th>\n",
       "      <td>0</td>\n",
       "      <td>Lisim78</td>\n",
       "      <td>20</td>\n",
       "      <td>Male</td>\n",
       "      <td>108</td>\n",
       "      <td>Extraction, Quickblade Of Trembling Hands</td>\n",
       "      <td>3.53</td>\n",
       "    </tr>\n",
       "    <tr>\n",
       "      <th>1</th>\n",
       "      <td>1</td>\n",
       "      <td>Lisovynya38</td>\n",
       "      <td>40</td>\n",
       "      <td>Male</td>\n",
       "      <td>143</td>\n",
       "      <td>Frenzied Scimitar</td>\n",
       "      <td>1.56</td>\n",
       "    </tr>\n",
       "    <tr>\n",
       "      <th>2</th>\n",
       "      <td>2</td>\n",
       "      <td>Ithergue48</td>\n",
       "      <td>24</td>\n",
       "      <td>Male</td>\n",
       "      <td>92</td>\n",
       "      <td>Final Critic</td>\n",
       "      <td>4.88</td>\n",
       "    </tr>\n",
       "    <tr>\n",
       "      <th>3</th>\n",
       "      <td>3</td>\n",
       "      <td>Chamassasya86</td>\n",
       "      <td>24</td>\n",
       "      <td>Male</td>\n",
       "      <td>100</td>\n",
       "      <td>Blindscythe</td>\n",
       "      <td>3.27</td>\n",
       "    </tr>\n",
       "    <tr>\n",
       "      <th>4</th>\n",
       "      <td>4</td>\n",
       "      <td>Iskosia90</td>\n",
       "      <td>23</td>\n",
       "      <td>Male</td>\n",
       "      <td>131</td>\n",
       "      <td>Fury</td>\n",
       "      <td>1.44</td>\n",
       "    </tr>\n",
       "  </tbody>\n",
       "</table>\n",
       "</div>"
      ],
      "text/plain": [
       "   Purchase ID             SN  Age Gender  Item ID  \\\n",
       "0            0        Lisim78   20   Male      108   \n",
       "1            1    Lisovynya38   40   Male      143   \n",
       "2            2     Ithergue48   24   Male       92   \n",
       "3            3  Chamassasya86   24   Male      100   \n",
       "4            4      Iskosia90   23   Male      131   \n",
       "\n",
       "                                   Item Name  Price  \n",
       "0  Extraction, Quickblade Of Trembling Hands   3.53  \n",
       "1                          Frenzied Scimitar   1.56  \n",
       "2                               Final Critic   4.88  \n",
       "3                                Blindscythe   3.27  \n",
       "4                                       Fury   1.44  "
      ]
     },
     "execution_count": 1,
     "metadata": {},
     "output_type": "execute_result"
    }
   ],
   "source": [
    "# Dependencies and Setup\n",
    "import pandas as pd\n",
    "import numpy as np\n",
    "\n",
    "# File to Load (Remember to Change These)\n",
    "file_to_load = \"Resources/purchase_data.csv\"\n",
    "\n",
    "# Read Purchasing File and store into Pandas data frame\n",
    "\n",
    "df = pd.read_csv(file_to_load)\n",
    "\n",
    "df.count()\n",
    "df.dtypes\n",
    "df.head()\n"
   ]
  },
  {
   "cell_type": "markdown",
   "metadata": {},
   "source": [
    "## Player Count"
   ]
  },
  {
   "cell_type": "markdown",
   "metadata": {},
   "source": [
    "* Display the total number of players\n"
   ]
  },
  {
   "cell_type": "code",
   "execution_count": 20,
   "metadata": {},
   "outputs": [
    {
     "name": "stdout",
     "output_type": "stream",
     "text": [
      "   Total number of Players\n",
      "0                      576\n"
     ]
    }
   ],
   "source": [
    "# ------Players Count------\n",
    "# determining total players\n",
    "players_count= df['SN'].nunique()\n",
    "\n",
    "total_players=pd.DataFrame({\"Total number of Players\": [players_count]})\n",
    "\n",
    "\n",
    "print(total_players.head())\n",
    "\n",
    "\n",
    "\n"
   ]
  },
  {
   "cell_type": "markdown",
   "metadata": {},
   "source": [
    "## Purchasing Analysis (Total)"
   ]
  },
  {
   "cell_type": "markdown",
   "metadata": {},
   "source": [
    "* Run basic calculations to obtain number of unique items, average price, etc.\n",
    "\n",
    "\n",
    "* Create a summary data frame to hold the results\n",
    "\n",
    "\n",
    "* Optional: give the displayed data cleaner formatting\n",
    "\n",
    "\n",
    "* Display the summary data frame\n"
   ]
  },
  {
   "cell_type": "code",
   "execution_count": 19,
   "metadata": {
    "scrolled": true
   },
   "outputs": [
    {
     "name": "stdout",
     "output_type": "stream",
     "text": [
      "   Number of Unique Items Average Price  Number of Purchases Total Revenue\n",
      "0                     183         $3.05                  780      $2379.77\n"
     ]
    }
   ],
   "source": [
    "# ------Purchasing Analysis(Total)------\n",
    "\n",
    "print(\"-----------Purchasing Analysis(Total)-----------\")\n",
    "# Determining number of unique items\n",
    "unique_items_count= df['Item ID'].nunique()\n",
    "#print(unique_items_count)\n",
    "\n",
    "# Determining total revenue\n",
    "total_revenue= df['Price'].sum()\n",
    "#print(total_revenue)\n",
    "\n",
    "# Determining Number of Purchases\n",
    "total_purchases= df['Purchase ID'].count()\n",
    "#print(total_purchases)\n",
    "\n",
    "# Determining Average Price\n",
    "average_price= df['Price'].mean()\n",
    "#print(average_price)\n",
    "\n",
    "purchasing_summary= pd.DataFrame({\"Number of Unique Items\": [unique_items_count],\n",
    "                           \"Average Price\": [average_price],\n",
    "                           \"Number of Purchases\": [total_purchases],\n",
    "                           \"Total Revenue\": [total_revenue]})\n",
    "\n",
    "purchasing_summary[\"Average Price\"] = purchasing_summary[\"Average Price\"].map(\"${:.2f}\".format)\n",
    "purchasing_summary[\"Total Revenue\"] = purchasing_summary[\"Total Revenue\"].map(\"${:.2f}\".format)\n",
    "print(purchasing_summary)"
   ]
  },
  {
   "cell_type": "markdown",
   "metadata": {},
   "source": [
    "\n",
    "## Gender Demographics"
   ]
  },
  {
   "cell_type": "markdown",
   "metadata": {},
   "source": [
    "* Percentage and Count of Male Players\n",
    "\n",
    "\n",
    "* Percentage and Count of Female Players\n",
    "\n",
    "\n",
    "* Percentage and Count of Other / Non-Disclosed\n",
    "\n",
    "\n"
   ]
  },
  {
   "cell_type": "code",
   "execution_count": 14,
   "metadata": {},
   "outputs": [
    {
     "name": "stdout",
     "output_type": "stream",
     "text": [
      "--------Gender Demographics-----------\n",
      "                       Total Count Percentage of Players\n",
      "Gender                                                  \n",
      "Male                           484                 84.03\n",
      "Female                          81                 14.06\n",
      "Other / Non-Disclosed           11                  1.91\n"
     ]
    }
   ],
   "source": [
    "# ------Gender Demographics------\n",
    "print(\"--------Gender Demographics-----------\")\n",
    "\n",
    "\n",
    "\n",
    "# Grouping Dataframe by Gender\n",
    "customer_group= df.groupby(\"Gender\")\n",
    "\n",
    "# Determining the Total Count of players series under each gender group\n",
    "gender=customer_group[\"SN\"].nunique()\n",
    "gender= gender.rename(columns={\"Gender\":\"Gender\",\"SN\": \"Total Count\"})\n",
    "\n",
    "\n",
    "# Determing percentage of players series under each gender group\n",
    "gender_percentage= (customer_group[\"SN\"].nunique()/players_count)*100\n",
    "gender_percentage= gender_percentage.rename(columns={\"Gender\":\"Gender\",\"Purchase ID\": \"Percentage of Players\"})\n",
    "\n",
    "\n",
    "# Forming a dataframe from total count series and percentage series and renaming column names and formating column values\n",
    "gender_df= pd.concat([gender,gender_percentage],axis=1).reset_index()\n",
    "gender_df= gender_df.rename(columns={\"Gender\": \"Gender\", 0: \"Total Count\", 1: \"Percentage of Players\"})\n",
    "gender_df[\"Percentage of Players\"] = gender_df[\"Percentage of Players\"].map(\"{:.2f}\".format)\n",
    "\n",
    "#Sorting table by Total Count values and setting index to Gender and formatting percentage column\n",
    "gender_df=gender_df.sort_values('Total Count',axis=0, ascending= False)\n",
    "gender_df=gender_df.set_index(\"Gender\")\n",
    "\n",
    "\n",
    "print(gender_df.head())\n",
    "\n",
    "\n",
    "\n",
    "\n",
    "\n"
   ]
  },
  {
   "cell_type": "markdown",
   "metadata": {},
   "source": [
    "\n",
    "## Purchasing Analysis (Gender)"
   ]
  },
  {
   "cell_type": "markdown",
   "metadata": {},
   "source": [
    "* Run basic calculations to obtain purchase count, avg. purchase price, avg. purchase total per person etc. by gender\n",
    "\n",
    "\n",
    "\n",
    "\n",
    "* Create a summary data frame to hold the results\n",
    "\n",
    "\n",
    "* Optional: give the displayed data cleaner formatting\n",
    "\n",
    "\n",
    "* Display the summary data frame"
   ]
  },
  {
   "cell_type": "code",
   "execution_count": 31,
   "metadata": {},
   "outputs": [
    {
     "name": "stdout",
     "output_type": "stream",
     "text": [
      "--------- Purchasing Analysis (Gender)----------------\n",
      "                       Purchase Count Average Purchase Price  \\\n",
      "Gender                                                         \n",
      "Female                            113                  $3.20   \n",
      "Male                              652                  $3.02   \n",
      "Other / Non-Disclosed              15                  $3.35   \n",
      "\n",
      "                      Total Purchase Value Average Total Purchase Per Person  \n",
      "Gender                                                                        \n",
      "Female                             $361.94                             $4.47  \n",
      "Male                              $1967.64                             $4.07  \n",
      "Other / Non-Disclosed               $50.19                             $4.56  \n"
     ]
    }
   ],
   "source": [
    "#--------- Purchasing Analysis (Gender)----------------\n",
    "\n",
    "print(\"--------- Purchasing Analysis (Gender)----------------\")\n",
    "\n",
    "# Setting a new Dataframe column with index of unique integers assigned to each purchase id called as customer id\n",
    "mapping = {k: v for v, k in enumerate(df.SN.unique())}\n",
    "df['Customer ID'] = df.SN.map(mapping)\n",
    "new_df= df.set_index('Customer ID')\n",
    "\n",
    "\n",
    "# Grouping by gender and determining purchase count series per gender\n",
    "gender_group=df.groupby(\"Gender\")\n",
    "purchase_count=gender_group[\"Purchase ID\"].count()\n",
    "\n",
    "\n",
    "# Determining average purchase price series per gender group\n",
    "average_pur_pr=gender_group[\"Price\"].mean()\n",
    "#average_pur_pr= average_pur_pr.rename(columns={\"Gender\":\"Gender\",\"Price\": \"Average Purchase Price\"})\n",
    "#print(average_pur_pr)\n",
    "\n",
    "\n",
    "\n",
    "# Determining total purchase value series per gender group\n",
    "total_pur_value=gender_group[\"Price\"].sum()\n",
    "total_pur_value= total_pur_value.rename(columns={\"Gender\":\"Gender\",\"Price\": \"Total Purchase Value\"})\n",
    "#print(total_pur_value)\n",
    "\n",
    "\n",
    "\n",
    "# Determining Avg Total Purchase per Person series per gender group\n",
    "avg_total_pur_per=customer_group[\"Price\"].sum()/gender_group[\"Customer ID\"].nunique()\n",
    "avg_total_pur_per= avg_total_pur_per.rename(columns={\"Gender\":\"Gender\",1: \"Average Total Purchase Per Person\"})\n",
    "#print(avg_total_pur_per)\n",
    "\n",
    "\n",
    "# Make a dataframe from all the series to display analysis\n",
    "new_df=pd.concat([gender,purchase_count,average_pur_pr,total_pur_value,avg_total_pur_per],axis=1).reset_index()\n",
    "\n",
    "# Renaming the columns and formatting column values of the new dataframe\n",
    "new_df= new_df.rename(columns={\"Gender\": \"Gender\", 0: \"Unique Customer Count\", \"Purchase ID\": \"Purchase Count\", \"Price\":  \"Average Purchase Price\",1: \"Total Purchase Value\", 2: \"Average Total Purchase Per Person\"})\n",
    "new_df= new_df[[\"Gender\",\"Purchase Count\", \"Average Purchase Price\", \"Total Purchase Value\", \"Average Total Purchase Per Person\"]]\n",
    "new_df[\"Average Purchase Price\"] = new_df[\"Average Purchase Price\"].map(\"${:.2f}\".format)\n",
    "new_df[\"Total Purchase Value\"] = new_df[\"Total Purchase Value\"].map(\"${:.2f}\".format)\n",
    "new_df[\"Average Total Purchase Per Person\"] = new_df[\"Average Total Purchase Per Person\"].map(\"${:.2f}\".format)\n",
    "\n",
    "# Setting new dataframe index to Gender\n",
    "new_df=new_df.set_index(\"Gender\")\n",
    "\n",
    "print(new_df.head())\n",
    "\n",
    "\n",
    "\n"
   ]
  },
  {
   "cell_type": "markdown",
   "metadata": {},
   "source": [
    "## Age Demographics"
   ]
  },
  {
   "cell_type": "markdown",
   "metadata": {},
   "source": [
    "* Establish bins for ages\n",
    "\n",
    "\n",
    "* Categorize the existing players using the age bins. Hint: use pd.cut()\n",
    "\n",
    "\n",
    "* Calculate the numbers and percentages by age group\n",
    "\n",
    "\n",
    "* Create a summary data frame to hold the results\n",
    "\n",
    "\n",
    "* Optional: round the percentage column to two decimal points\n",
    "\n",
    "\n",
    "* Display Age Demographics Table\n"
   ]
  },
  {
   "cell_type": "code",
   "execution_count": 36,
   "metadata": {},
   "outputs": [
    {
     "name": "stdout",
     "output_type": "stream",
     "text": [
      "----------Age Demographics--------------------\n",
      "           Total Count Percentage of Players\n",
      "Age Group                                   \n",
      "<10                 17                  2.95\n",
      "10-14               22                  3.82\n",
      "15-19              107                 18.58\n",
      "20-24              258                 44.79\n",
      "25-29               77                 13.37\n"
     ]
    }
   ],
   "source": [
    "#----------Age Demographics--------------------\n",
    "print(\"----------Age Demographics--------------------\")\n",
    "\n",
    "# Establish bins for ages\n",
    "bins = [0, 9, 14, 19, 24, 29, 34, 39, 45]\n",
    "\n",
    "# Create the names for the four bins\n",
    "group_labels = [\"<10\", \"10-14\", \"15-19\", \"20-24\", \"25-29\",\"30-34\",\"35-39\",\"40+\"]\n",
    "\n",
    "\n",
    "df[\"Age Group\"] = pd.cut(df[\"Age\"], bins, labels = group_labels)\n",
    "\n",
    "\n",
    "# Create a Groupby object based upon \"Age Group\"\n",
    "age_group= df.groupby(\"Age Group\")\n",
    "\n",
    "# Determining total count series per age group\n",
    "age_group_count= age_group[\"Customer ID\"].nunique()\n",
    "age_group_count= age_group_count.rename(columns={\"Age Group\":\"Age Group\",\"Customer ID\": \"Total Count\"})\n",
    "#print(age_group_count)\n",
    "\n",
    "# Determining Percentage of Players series per age group\n",
    "age_group_percentage= ((age_group[\"Customer ID\"].nunique())/(df[\"Customer ID\"].nunique())*100)\n",
    "age_group_percentage= age_group_percentage.rename(columns={\"Age Group\":\"Age Group\",\"Customer ID\": \"Percentage of Players\"})\n",
    "#print(age_group_percentage)\n",
    "\n",
    "# Forming a Dataframe table from above series and renaming/formatting columns\n",
    "age_df=pd.concat([age_group_count,age_group_percentage],axis=1).reset_index()\n",
    "age_df= age_df.rename(columns={\"Age Group\": \"Age Group\", 0: \"Total Count\", 1: \"Percentage of Players\"})\n",
    "age_df[\"Percentage of Players\"] = age_df[\"Percentage of Players\"].map(\"{:.2f}\".format)\n",
    "\n",
    "# Setting dataframe index to Gender\n",
    "age_df=age_df.set_index(\"Age Group\")\n",
    "print(age_df.head())\n",
    "\n"
   ]
  },
  {
   "cell_type": "markdown",
   "metadata": {},
   "source": [
    "## Purchasing Analysis (Age)"
   ]
  },
  {
   "cell_type": "markdown",
   "metadata": {},
   "source": [
    "* Bin the purchase_data data frame by age\n",
    "\n",
    "\n",
    "* Run basic calculations to obtain purchase count, avg. purchase price, avg. purchase total per person etc. in the table below\n",
    "\n",
    "\n",
    "* Create a summary data frame to hold the results\n",
    "\n",
    "\n",
    "* Optional: give the displayed data cleaner formatting\n",
    "\n",
    "\n",
    "* Display the summary data frame"
   ]
  },
  {
   "cell_type": "code",
   "execution_count": 38,
   "metadata": {},
   "outputs": [
    {
     "name": "stdout",
     "output_type": "stream",
     "text": [
      "-------Purchasing Analysis(Age)---------------\n",
      "           Purchase Count Average Purchase Price Total Purchase Value  \\\n",
      "Age Group                                                               \n",
      "<10                    23                  $3.35               $77.13   \n",
      "10-14                  28                  $2.96               $82.78   \n",
      "15-19                 136                  $3.04              $412.89   \n",
      "20-24                 365                  $3.05             $1114.06   \n",
      "25-29                 101                  $2.90              $293.00   \n",
      "\n",
      "          Avg Total Purchase per Person  \n",
      "Age Group                                \n",
      "<10                               $4.54  \n",
      "10-14                             $3.76  \n",
      "15-19                             $3.86  \n",
      "20-24                             $4.32  \n",
      "25-29                             $3.81  \n"
     ]
    }
   ],
   "source": [
    "#-------Purchasing Analysis(Age)---------------\n",
    "\n",
    "print(\"-------Purchasing Analysis(Age)---------------\")\n",
    "\n",
    "# Determine Purchase Count per age group\n",
    "age_group_pur_count= age_group[\"Purchase ID\"].nunique()\n",
    "age_group_pur_count= age_group_pur_count.rename(columns={\"Age Group\":\"Age Group\",\"Purchase ID\": \"Purchase Count\"})\n",
    "#print(age_group_pur_count)\n",
    "\n",
    "# Determine Average Purchase Price per age group\n",
    "age_group_avg_pur_pr= age_group[\"Price\"].mean()\n",
    "age_group_avg_pur_pr= age_group_avg_pur_pr.rename(columns={\"Age Group\":\"Age Group\",\"Price\": \"Average Purchase Price\"})\n",
    "#print(age_group_avg_pur_pr)\n",
    "\n",
    "# Determine Total Purchase Value per age group\n",
    "age_group_tot_pur_value= age_group[\"Price\"].sum()\n",
    "age_group_tot_pur_value= age_group_tot_pur_value.rename(columns={\"Age Group\":\"Age Group\",\"Price\": \"Total Purchase Value\"})\n",
    "#print(age_group_tot_pur_value)\n",
    "\n",
    "# Determine Avg Total Purchase per Person per age group\n",
    "age_group_avg_tot_pur_pr= (age_group[\"Price\"].sum())/(age_group[\"Customer ID\"].nunique())\n",
    "age_group_avg_tot_pur_pr= age_group_avg_tot_pur_pr.rename(columns={\"Age Group\":\"Age Group\",\"Price\": \"Avg Total Purchase per Person\"})\n",
    "#print(age_group_avg_tot_pur_pr)\n",
    "\n",
    "\n",
    "# Forming a Dataframe table from above series and renaming/formatting columns\n",
    "age_rev_df=pd.concat([age_group_pur_count,age_group_avg_pur_pr,age_group_tot_pur_value,age_group_avg_tot_pur_pr],axis=1).reset_index()\n",
    "age_rev_df= age_rev_df.rename(columns={\"Age Group\": \"Age Group\", 0: \"Purchase Count\", 1: \"Average Purchase Price\",2: \"Total Purchase Value\", 3: \"Avg Total Purchase per Person\" })\n",
    "age_rev_df[\"Average Purchase Price\"] = age_rev_df[\"Average Purchase Price\"].map(\"${:.2f}\".format)\n",
    "age_rev_df[\"Total Purchase Value\"] = age_rev_df[\"Total Purchase Value\"].map(\"${:.2f}\".format)\n",
    "age_rev_df[\"Avg Total Purchase per Person\"] = age_rev_df[\"Avg Total Purchase per Person\"].map(\"${:.2f}\".format)\n",
    "\n",
    "# Setting index of new dataframe to \"Age Group\"\n",
    "age_rev_df=age_rev_df.set_index(\"Age Group\")\n",
    "print(age_rev_df.head())\n",
    "\n"
   ]
  },
  {
   "cell_type": "markdown",
   "metadata": {},
   "source": [
    "## Top Spenders"
   ]
  },
  {
   "cell_type": "markdown",
   "metadata": {},
   "source": [
    "* Run basic calculations to obtain the results in the table below\n",
    "\n",
    "\n",
    "* Create a summary data frame to hold the results\n",
    "\n",
    "\n",
    "* Sort the total purchase value column in descending order\n",
    "\n",
    "\n",
    "* Optional: give the displayed data cleaner formatting\n",
    "\n",
    "\n",
    "* Display a preview of the summary data frame\n",
    "\n"
   ]
  },
  {
   "cell_type": "code",
   "execution_count": 45,
   "metadata": {},
   "outputs": [
    {
     "name": "stdout",
     "output_type": "stream",
     "text": [
      "--------------------Top Spenders---------------------\n",
      "             Purchase Count Average Purchase Price Total Purchase Value\n",
      "SN                                                                     \n",
      "Lisosia93                 5                  $3.79               $18.96\n",
      "Idastidru52               4                  $3.86               $15.45\n",
      "Chamjask73                3                  $4.61               $13.83\n",
      "Iral74                    4                  $3.40               $13.62\n",
      "Iskadarya95               3                  $4.37               $13.10\n"
     ]
    }
   ],
   "source": [
    "#--------------------Top Spenders---------------------\n",
    "print(\"--------------------Top Spenders---------------------\")\n",
    "\n",
    "# Grouping initial Dataframe by SN\n",
    "spenders_group= df.groupby(\"SN\")\n",
    "#print(type(spenders_group))\n",
    "\n",
    "# Determining the purchase count series for each SN\n",
    "spenders_group_count= spenders_group[\"Purchase ID\"].count()\n",
    "spenders_group_count= spenders_group_count.rename(columns={\"SN\":\"SN\",\"Purchase ID\": \"Purchase Count\"})\n",
    "#print(spenders_group_count)\n",
    "\n",
    "# Determining the Average Purchase Price series for each SN\n",
    "spenders_group_avg_pur_pr= spenders_group[\"Price\"].mean()\n",
    "spenders_group_avg_pur_pr= spenders_group_avg_pur_pr.rename(columns={\"SN\":\"SN\",\"Price\": \"Average Purchase Price\"})\n",
    "#print(spenders_group_avg_pur_pr)\n",
    "\n",
    "# Determining the Total Purchase Value series for each SN\n",
    "spenders_group_tot_pur_value= spenders_group[\"Price\"].sum()\n",
    "spenders_group_tot_pur_value= spenders_group_tot_pur_value.rename(columns={\"SN\":\"SN\",\"Price\": \"Total Purchase Value\"})\n",
    "#print(spenders_group_tot_pur_value)\n",
    "\n",
    "# Forming the top spenders dataframe using above data series; sorting the dataframe in descending values of total purchase value and formating/renaming columns\n",
    "top_spenders_df=pd.concat([spenders_group_count,spenders_group_avg_pur_pr,spenders_group_tot_pur_value],axis=1).reset_index()\n",
    "top_spenders_df=top_spenders_df.sort_values(2, axis=0, ascending=False)\n",
    "top_spenders_df= top_spenders_df.rename(columns={\"SN\": \"SN\", 0: \"Purchase Count\", 1: \"Average Purchase Price\",2: \"Total Purchase Value\" })\n",
    "top_spenders_df[\"Average Purchase Price\"] = top_spenders_df[\"Average Purchase Price\"].map(\"${:.2f}\".format)\n",
    "top_spenders_df[\"Total Purchase Value\"] = top_spenders_df[\"Total Purchase Value\"].map(\"${:.2f}\".format)\n",
    "\n",
    "# Setting index of new dataframe to \"SN\"\n",
    "top_spenders_df=top_spenders_df.set_index(\"SN\")\n",
    "\n",
    "print(top_spenders_df.head())\n"
   ]
  },
  {
   "cell_type": "markdown",
   "metadata": {},
   "source": [
    "## Most Popular Items"
   ]
  },
  {
   "cell_type": "markdown",
   "metadata": {},
   "source": [
    "* Retrieve the Item ID, Item Name, and Item Price columns\n",
    "\n",
    "\n",
    "* Group by Item ID and Item Name. Perform calculations to obtain purchase count, item price, and total purchase value\n",
    "\n",
    "\n",
    "* Create a summary data frame to hold the results\n",
    "\n",
    "\n",
    "* Sort the purchase count column in descending order\n",
    "\n",
    "\n",
    "* Optional: give the displayed data cleaner formatting\n",
    "\n",
    "\n",
    "* Display a preview of the summary data frame\n",
    "\n"
   ]
  },
  {
   "cell_type": "code",
   "execution_count": 46,
   "metadata": {},
   "outputs": [
    {
     "name": "stdout",
     "output_type": "stream",
     "text": [
      "--------------------Most Popular Items---------------------\n",
      "                                            Item Name  Purchase Count  \\\n",
      "Item ID                                                                 \n",
      "178      Oathbreaker, Last Hope of the Breaking Storm              12   \n",
      "145                              Fiery Glass Crusader               9   \n",
      "108         Extraction, Quickblade Of Trembling Hands               9   \n",
      "82                                            Nirvana               9   \n",
      "19                      Pursuit, Cudgel of Necromancy               8   \n",
      "\n",
      "        Item Price Total Purchase Value  \n",
      "Item ID                                  \n",
      "178          $4.23               $50.76  \n",
      "145          $4.58               $41.22  \n",
      "108          $3.53               $31.77  \n",
      "82           $4.90               $44.10  \n",
      "19           $1.02                $8.16  \n"
     ]
    }
   ],
   "source": [
    "#--------------------Most Popular Items---------------------\n",
    "print(\"--------------------Most Popular Items---------------------\")\n",
    "\n",
    "# Grouping the dataframe by Item ID\n",
    "\n",
    "item_group= df.groupby(\"Item ID\")\n",
    "\n",
    "# Determining Purchase count series for each item in the item group and assigning a column name\n",
    "item_group_count_series= item_group['Purchase ID'].count()\n",
    "item_group_count_series= item_group_count_series.rename(columns={\"Item ID\":\"Item ID\",\"Purchase ID\": \"Purchase Count\"})\n",
    "#print(item_group_count_series)\n",
    "#print(type(item_group_count_series))\n",
    "\n",
    "# Determining Item Price series for each item in the item group and assigning a column name\n",
    "item_group_price= item_group[\"Price\"].mean()\n",
    "item_group_price= item_group_price.rename(columns={\"Item ID\":\"Item ID\",\"Price\": \"Item Price\"})\n",
    "\n",
    "\n",
    "# Determining Total Purchase Value series for each item in the item group and assigning a column name\n",
    "item_group_total_purchase_value= item_group[\"Price\"].sum()\n",
    "item_group_total_purchase_value= item_group_total_purchase_value.rename(columns={\"Item ID\":\"Item ID\",\"Price\": \"Total Purchase Value\"})\n",
    "\n",
    "\n",
    "# Organizing a new Dataframe with only two columns Item names and IDs and setting index to Item ID\n",
    "item_name_df= df[[\"Item ID\",\"Item Name\"]]\n",
    "item_name_df= (df[[\"Item ID\",\"Item Name\"]]).set_index(\"Item ID\")\n",
    "#print(organized_df.head())\n",
    "\n",
    "# Formulating a dataframe from Item ID, purchase count, item price and total purchase value and renaming columns of the new dataframe\n",
    "top_items_df=pd.concat([item_group_count_series,item_group_price,item_group_total_purchase_value],axis=1)\n",
    "top_items_df= top_items_df.rename(columns={\"Item ID\": \"Item ID\", 0: \"Purchase Count\", 1: \"Item Price\",2: \"Total Purchase Value\" })\n",
    "#print(top_items_df.head())\n",
    "\n",
    "# Merging item_name dataframe and grouped dataframe and removing duplicate rows\n",
    "organized_df= pd.merge(top_items_df,item_name_df, on=\"Item ID\",how='left')\n",
    "#print(organized_df.head())\n",
    "organized_df=organized_df.drop_duplicates(subset=['Item Price', 'Total Purchase Value', 'Item Name'])\n",
    "#print(new_df.columns)\n",
    "\n",
    "# Formating organized df columns to $ and upto 2 decimals\n",
    "organized_df=organized_df[[\"Item Name\",\"Purchase Count\", \"Item Price\", \"Total Purchase Value\"]]\n",
    "#print(organized_df.head())\n",
    "organized_df[\"Item Price\"] = organized_df[\"Item Price\"].map(\"${:.2f}\".format)\n",
    "organized_df[\"Total Purchase Value\"] = organized_df[\"Total Purchase Value\"].map(\"${:.2f}\".format)\n",
    "\n",
    "# Sorting organized dataframe in descending values of purchase count\n",
    "popular_df=organized_df.sort_values(\"Purchase Count\", axis=0, ascending=False)\n",
    "print(popular_df.head())\n",
    "\n",
    "\n"
   ]
  },
  {
   "cell_type": "markdown",
   "metadata": {},
   "source": [
    "## Most Profitable Items"
   ]
  },
  {
   "cell_type": "markdown",
   "metadata": {},
   "source": [
    "* Sort the above table by total purchase value in descending order\n",
    "\n",
    "\n",
    "* Optional: give the displayed data cleaner formatting\n",
    "\n",
    "\n",
    "* Display a preview of the data frame\n",
    "\n"
   ]
  },
  {
   "cell_type": "code",
   "execution_count": 47,
   "metadata": {
    "scrolled": true
   },
   "outputs": [
    {
     "name": "stdout",
     "output_type": "stream",
     "text": [
      "--------------------Most Profitable Items---------------------\n",
      "                                            Item Name  Purchase Count  \\\n",
      "Item ID                                                                 \n",
      "178      Oathbreaker, Last Hope of the Breaking Storm              12   \n",
      "82                                            Nirvana               9   \n",
      "145                              Fiery Glass Crusader               9   \n",
      "92                                       Final Critic               8   \n",
      "103                                    Singed Scalpel               8   \n",
      "\n",
      "         Item Price  Total Purchase Value  \n",
      "Item ID                                    \n",
      "178            4.23                 50.76  \n",
      "82             4.90                 44.10  \n",
      "145            4.58                 41.22  \n",
      "92             4.88                 39.04  \n",
      "103            4.35                 34.80  \n"
     ]
    }
   ],
   "source": [
    "#--------------------Most Profitable Items---------------------\n",
    "print(\"--------------------Most Profitable Items---------------------\")\n",
    "\n",
    "# Forming a new dataframe that sorts \"top_items_df\" according to descending values of total purchase value\n",
    "top_items_purchases_df=top_items_df.sort_values('Total Purchase Value',ascending=False)\n",
    "\n",
    "\n",
    "# Merging top_items_purchases_df and item_name_df to generate item name column\n",
    "new_df=pd.merge(top_items_purchases_df,item_name_df, on=\"Item ID\",how='left')\n",
    "\n",
    "# Removing duplicate entries of item IDs but keeping the first entry\n",
    "new_df=new_df.drop_duplicates(subset=['Item Price', 'Total Purchase Value', 'Item Name'])\n",
    "\n",
    "# Reaaranging the columns post merge\n",
    "new_df=new_df[[\"Item Name\",\"Purchase Count\", \"Item Price\", \"Total Purchase Value\"]]\n",
    "print(new_df.head())\n",
    "\n"
   ]
  },
  {
   "cell_type": "markdown",
   "metadata": {},
   "source": [
    "# Heroes Of Pymoli Data Analysis Trends & Insights-\n",
    "\n",
    "1. Customer Trends- \n",
    "---> Of the 576 active players, the vast majority are male (84.03%). There also exists, a smaller, but notable proportion of female players (14.06%). \n",
    "---> Our peak age demographic falls between 20-24 (44.79%) with secondary groups falling between 15-19 (18.58%) and 25-29 (13.37%).\n",
    "\n",
    "2. Product Trends- \n",
    "---> 183 unique items, priced at an average of  $3.05, were sold, generating a total revenue of $2379.77 \n",
    "---> \"Oathbreaker, Last Hope of the Breaking Storm\" (Item 178) is the highest selling item generating the highest total purchase revenue of  50.76 followed by Nirvana (Item ID#82); generating total purchase revenue of 44.10\n",
    "\n",
    "3. Purchase Transaction Trends- \n",
    "---> We saw 780 total purchases leading to a total revenue of  2379.77andaveragepurchasepriceof 4.13 per user. \n",
    "---> User- \"isosia93\"is the most purchased customer making the higest total purchase value of $18.96"
   ]
  },
  {
   "cell_type": "code",
   "execution_count": null,
   "metadata": {},
   "outputs": [],
   "source": []
  }
 ],
 "metadata": {
  "anaconda-cloud": {},
  "kernel_info": {
   "name": "python3"
  },
  "kernelspec": {
   "display_name": "Python 3",
   "language": "python",
   "name": "python3"
  },
  "language_info": {
   "codemirror_mode": {
    "name": "ipython",
    "version": 3
   },
   "file_extension": ".py",
   "mimetype": "text/x-python",
   "name": "python",
   "nbconvert_exporter": "python",
   "pygments_lexer": "ipython3",
   "version": "3.7.0"
  },
  "nteract": {
   "version": "0.2.0"
  }
 },
 "nbformat": 4,
 "nbformat_minor": 2
}
